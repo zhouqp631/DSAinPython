{
 "cells": [
  {
   "cell_type": "code",
   "execution_count": 1,
   "metadata": {},
   "outputs": [],
   "source": [
    "def matrix_chain(d):\n",
    "    ''' \n",
    "    d is a list: [d[0],d[1],...,d[n-1],d[n]]\n",
    "    return: the total number of scalar of multiplications\n",
    "    '''\n",
    "    n = len(d)-1\n",
    "    N = [[0]*n for _ in range(n)]\n",
    "    for b in range(1,n):      # number of  products in subchain\n",
    "        for i in range(n-b):  # start of subchain\n",
    "            j = i+b\n",
    "            N[i][j] = min([N[i][k]+N[k+1][j]+d[i]*d[k+1]*d[j+1] for k in range(i,j)])\n",
    "    return N[0][n-1]"
   ]
  },
  {
   "cell_type": "code",
   "execution_count": 2,
   "metadata": {},
   "outputs": [
    {
     "data": {
      "text/plain": [
       "3000"
      ]
     },
     "execution_count": 2,
     "metadata": {},
     "output_type": "execute_result"
    }
   ],
   "source": [
    "matrix_chain([2,10,50,20])"
   ]
  },
  {
   "cell_type": "code",
   "execution_count": null,
   "metadata": {},
   "outputs": [],
   "source": []
  }
 ],
 "metadata": {
  "kernelspec": {
   "display_name": "Python 3",
   "language": "python",
   "name": "python3"
  },
  "language_info": {
   "codemirror_mode": {
    "name": "ipython",
    "version": 3
   },
   "file_extension": ".py",
   "mimetype": "text/x-python",
   "name": "python",
   "nbconvert_exporter": "python",
   "pygments_lexer": "ipython3",
   "version": "3.5.6"
  }
 },
 "nbformat": 4,
 "nbformat_minor": 2
}
