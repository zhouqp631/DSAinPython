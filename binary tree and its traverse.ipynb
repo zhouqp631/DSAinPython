{
 "cells": [
  {
   "cell_type": "markdown",
   "metadata": {},
   "source": [
    "# 构造树"
   ]
  },
  {
   "cell_type": "markdown",
   "metadata": {},
   "source": [
    "定义树节点：值+左子树+右子树"
   ]
  },
  {
   "cell_type": "code",
   "execution_count": 1,
   "metadata": {},
   "outputs": [],
   "source": [
    "class node(object):\n",
    "    def __init__(self,val=None):\n",
    "        self.left = None\n",
    "        self.right = None\n",
    "        self.val = val"
   ]
  },
  {
   "cell_type": "markdown",
   "metadata": {},
   "source": [
    "构造一棵树"
   ]
  },
  {
   "cell_type": "code",
   "execution_count": 2,
   "metadata": {},
   "outputs": [],
   "source": [
    "r = node(0)\n",
    "r.left, r.right = node(1),node(2)\n",
    "r.left.left, r.left.right = node(3),node(4)\n",
    "r.right.left,r.right.right = node(5),node(6)"
   ]
  },
  {
   "cell_type": "markdown",
   "metadata": {},
   "source": [
    "# 递归遍历"
   ]
  },
  {
   "cell_type": "markdown",
   "metadata": {},
   "source": [
    "## 前序遍历： VLR"
   ]
  },
  {
   "cell_type": "code",
   "execution_count": 3,
   "metadata": {},
   "outputs": [],
   "source": [
    "def preorderTraverse(r):\n",
    "    if r is None:\n",
    "        return []\n",
    "    result = []\n",
    "    if r:\n",
    "        result += [r.val]\n",
    "    if r.left:\n",
    "        result += preorderTraverse(r.left)\n",
    "    if r.right:\n",
    "        result += preorderTraverse(r.right)\n",
    "    return result"
   ]
  },
  {
   "cell_type": "code",
   "execution_count": 4,
   "metadata": {},
   "outputs": [
    {
     "data": {
      "text/plain": [
       "[0, 1, 3, 4, 2, 5, 6]"
      ]
     },
     "execution_count": 4,
     "metadata": {},
     "output_type": "execute_result"
    }
   ],
   "source": [
    "preorderTraverse(r)"
   ]
  },
  {
   "cell_type": "markdown",
   "metadata": {},
   "source": [
    "## 中序遍历: LVR"
   ]
  },
  {
   "cell_type": "code",
   "execution_count": 5,
   "metadata": {},
   "outputs": [],
   "source": [
    "def inorderTraverse(r):\n",
    "    if r is None:\n",
    "        return []\n",
    "    result = []\n",
    "    if r.left:\n",
    "        result += inorderTraverse(r.left)\n",
    "    if r:\n",
    "        result += [r.val]\n",
    "    if r.right:\n",
    "        result += inorderTraverse(r.right)\n",
    "    return result"
   ]
  },
  {
   "cell_type": "code",
   "execution_count": 6,
   "metadata": {},
   "outputs": [
    {
     "data": {
      "text/plain": [
       "[3, 1, 4, 0, 5, 2, 6]"
      ]
     },
     "execution_count": 6,
     "metadata": {},
     "output_type": "execute_result"
    }
   ],
   "source": [
    "inorderTraverse(r)"
   ]
  },
  {
   "cell_type": "markdown",
   "metadata": {},
   "source": [
    "## 后序遍历: LRV"
   ]
  },
  {
   "cell_type": "code",
   "execution_count": 7,
   "metadata": {},
   "outputs": [],
   "source": [
    "def postorderTraverse(r):\n",
    "    if r is None:\n",
    "        return []\n",
    "    result = []\n",
    "    if r.left:\n",
    "        result += postorderTraverse(r.left)\n",
    "    if r.right:\n",
    "        result += postorderTraverse(r.right)\n",
    "    if r:\n",
    "        result += [r.val]\n",
    "    return result"
   ]
  },
  {
   "cell_type": "code",
   "execution_count": 8,
   "metadata": {},
   "outputs": [
    {
     "data": {
      "text/plain": [
       "[3, 4, 1, 5, 6, 2, 0]"
      ]
     },
     "execution_count": 8,
     "metadata": {},
     "output_type": "execute_result"
    }
   ],
   "source": [
    "postorderTraverse(r)"
   ]
  },
  {
   "cell_type": "markdown",
   "metadata": {},
   "source": [
    "# 递归遍历"
   ]
  },
  {
   "cell_type": "markdown",
   "metadata": {},
   "source": [
    "## 前序遍历： VLR"
   ]
  },
  {
   "cell_type": "code",
   "execution_count": 9,
   "metadata": {},
   "outputs": [],
   "source": [
    "def preorderTraverse2(r):\n",
    "    if r is None:\n",
    "        return []\n",
    "    stack = []\n",
    "    result = []\n",
    "    node = r\n",
    "    while stack or node:\n",
    "        while node:\n",
    "            result.append(node.val)\n",
    "            stack.append(node)\n",
    "            node = node.left\n",
    "        temp = stack.pop()\n",
    "        node = temp.right\n",
    "    return result\n",
    "    "
   ]
  },
  {
   "cell_type": "code",
   "execution_count": 10,
   "metadata": {},
   "outputs": [
    {
     "data": {
      "text/plain": [
       "[0, 1, 3, 4, 2, 5, 6]"
      ]
     },
     "execution_count": 10,
     "metadata": {},
     "output_type": "execute_result"
    }
   ],
   "source": [
    "preorderTraverse2(r)"
   ]
  },
  {
   "cell_type": "markdown",
   "metadata": {},
   "source": [
    "## 中序遍历: LVR"
   ]
  },
  {
   "cell_type": "code",
   "execution_count": 17,
   "metadata": {},
   "outputs": [],
   "source": [
    "def inorderTraverse2(r):\n",
    "    if r is None:\n",
    "        return []\n",
    "    stack = []\n",
    "    result = []\n",
    "    node = r\n",
    "    while stack or node:\n",
    "        while node:\n",
    "            stack.append(node)\n",
    "            node = node.left\n",
    "        temp = stack.pop()\n",
    "        result.append(temp.val)\n",
    "        node = temp.right\n",
    "    return result\n",
    "    "
   ]
  },
  {
   "cell_type": "code",
   "execution_count": 18,
   "metadata": {},
   "outputs": [
    {
     "data": {
      "text/plain": [
       "[3, 1, 4, 0, 5, 2, 6]"
      ]
     },
     "execution_count": 18,
     "metadata": {},
     "output_type": "execute_result"
    }
   ],
   "source": [
    "inorderTraverse2(r)"
   ]
  },
  {
   "cell_type": "markdown",
   "metadata": {},
   "source": [
    "## 后序遍历: LRV\n",
    "\n",
    "将后序遍历LRV,看做VRL的逆。\n",
    "所以，先对tree做VRL遍历，然后翻转得到的结果"
   ]
  },
  {
   "cell_type": "code",
   "execution_count": 13,
   "metadata": {},
   "outputs": [],
   "source": [
    "def postorderTraverse2(r):\n",
    "    if r is None:\n",
    "        return []\n",
    "    stack = []\n",
    "    result = []\n",
    "    node = r\n",
    "    # VRL\n",
    "    while stack or node:\n",
    "        while node:\n",
    "            result.append(node.val)\n",
    "            stack.append(node)\n",
    "            node = node.right\n",
    "        temp = stack.pop()\n",
    "        node = temp.left\n",
    "    result = result[::-1]\n",
    "    return result\n",
    "    "
   ]
  },
  {
   "cell_type": "code",
   "execution_count": 14,
   "metadata": {},
   "outputs": [
    {
     "data": {
      "text/plain": [
       "[3, 4, 1, 5, 6, 2, 0]"
      ]
     },
     "execution_count": 14,
     "metadata": {},
     "output_type": "execute_result"
    }
   ],
   "source": [
    "postorderTraverse2(r)"
   ]
  },
  {
   "cell_type": "code",
   "execution_count": null,
   "metadata": {},
   "outputs": [],
   "source": []
  }
 ],
 "metadata": {
  "kernelspec": {
   "display_name": "Python 3",
   "language": "python",
   "name": "python3"
  },
  "language_info": {
   "codemirror_mode": {
    "name": "ipython",
    "version": 3
   },
   "file_extension": ".py",
   "mimetype": "text/x-python",
   "name": "python",
   "nbconvert_exporter": "python",
   "pygments_lexer": "ipython3",
   "version": "3.5.6"
  }
 },
 "nbformat": 4,
 "nbformat_minor": 2
}
