{
 "cells": [
  {
   "cell_type": "code",
   "execution_count": 12,
   "metadata": {},
   "outputs": [],
   "source": [
    "def editDistance(str1,str2):\n",
    "    #异常处理\n",
    "    if str1 is None or str2 is None:\n",
    "        return -1 \n",
    "    m,n = len(str1),len(str2)\n",
    "    # 定义编辑距离\n",
    "    d = [[0]*(n+1) for _ in range(m+1)]\n",
    "    # 边界条件\n",
    "    for i in range(1,m):\n",
    "        d[i][0] = i\n",
    "    for j in range(1,n):\n",
    "        d[0][j] = j\n",
    "    # 迭代过程    \n",
    "    for i in range(1,m+1):\n",
    "        for j in range(1,n+1):\n",
    "            if str1[i-1]==str2[j-1]:\n",
    "                d[i][j] = d[i-1][j-1]\n",
    "            else:\n",
    "                d[i][j] = min(d[i][j-1]+1,    # 插入\n",
    "                              d[i-1][j]+1,    # 删除\n",
    "                              d[i-1][j-1]+1)  # 替换\n",
    "    return d[-1][-1]"
   ]
  },
  {
   "cell_type": "code",
   "execution_count": 13,
   "metadata": {},
   "outputs": [
    {
     "data": {
      "text/plain": [
       "3"
      ]
     },
     "execution_count": 13,
     "metadata": {},
     "output_type": "execute_result"
    }
   ],
   "source": [
    "str1 ='cat'\n",
    "str2 = 'mouse'\n",
    "editDistance(str1,str2)"
   ]
  },
  {
   "cell_type": "code",
   "execution_count": null,
   "metadata": {},
   "outputs": [],
   "source": []
  }
 ],
 "metadata": {
  "kernelspec": {
   "display_name": "Python 3",
   "language": "python",
   "name": "python3"
  },
  "language_info": {
   "codemirror_mode": {
    "name": "ipython",
    "version": 3
   },
   "file_extension": ".py",
   "mimetype": "text/x-python",
   "name": "python",
   "nbconvert_exporter": "python",
   "pygments_lexer": "ipython3",
   "version": "3.5.6"
  }
 },
 "nbformat": 4,
 "nbformat_minor": 2
}
